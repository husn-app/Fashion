{
 "cells": [
  {
   "cell_type": "code",
   "execution_count": 2,
   "metadata": {},
   "outputs": [
    {
     "data": {
      "text/plain": [
       "<torch.autograd.grad_mode.set_grad_enabled at 0x16e8a35b0>"
      ]
     },
     "execution_count": 2,
     "metadata": {},
     "output_type": "execute_result"
    }
   ],
   "source": [
    "from tqdm import tqdm\n",
    "import os\n",
    "import matplotlib.pyplot as plt\n",
    "import gc\n",
    "from PIL import ImageFile\n",
    "import torch\n",
    "import open_clip\n",
    "from PIL import Image\n",
    "\n",
    "\n",
    "ImageFile.LOAD_TRUNCATED_IMAGES = True\n",
    "torch.set_grad_enabled(False)"
   ]
  },
  {
   "cell_type": "code",
   "execution_count": null,
   "metadata": {},
   "outputs": [],
   "source": [
    "device = \"cuda\" if torch.cuda.is_available() else \"cpu\"\n",
    "model, _, preprocess = open_clip.create_model_and_transforms('ViT-B-32', pretrained='laion2b_s34b_b79k')\n",
    "tokenizer = open_clip.get_tokenizer('ViT-B-32')\n",
    "\n",
    "batch_size = 100\n",
    "all_images_features = []\n",
    "for i in tqdm(range(0, len(all_images[:20000]), batch_size)):\n",
    "    batch_images = all_images[i:i+batch_size]\n",
    "    batch_images = [preprocess(Image.open('assets/' + img_path)).unsqueeze(0) for img_path in batch_images]\n",
    "    batch_images = torch.cat(batch_images, 0)\n",
    "    with torch.no_grad():\n",
    "        batch_features = model.encode_image(batch_images)\n",
    "    all_images_features.extend(batch_features)\n",
    "    del batch_images, batch_features  # delete the variables\n",
    "    gc.collect()\n",
    "\n",
    "print(all_images_features)"
   ]
  },
  {
   "cell_type": "code",
   "execution_count": null,
   "metadata": {},
   "outputs": [],
   "source": [
    "all_images_features_tensor = torch.stack(all_images_features)\n",
    "all_images_features_tensor /= all_images_features_tensor.norm(dim=-1, keepdim=True)\n",
    "\n",
    "def plotKNN(base_embedding, nrow=5, ncol=5, figsize=(10, 10), title=\"\"):\n",
    "    probs = torch.nn.functional.cosine_similarity(all_images_features_tensor, base_embedding.view(1, 512))\n",
    "\n",
    "    top_indices = probs.topk(nrow * ncol).indices\n",
    "    top_images = [all_images[i] for i in top_indices]\n",
    "    top_scores = probs[top_indices]\n",
    "\n",
    "    fig, axs = plt.subplots(nrow, ncol, figsize=figsize)\n",
    "    fig.suptitle(f\"{title}\", fontsize=20, fontname='Comic Sans MS')\n",
    "    \n",
    "    for i, (img, score, ix) in enumerate(zip(top_images, top_scores, top_indices)):\n",
    "        img_path = 'assets/' + img\n",
    "        image = Image.open(img_path)\n",
    "        axs[i//ncol][i%ncol].imshow(image)\n",
    "        axs[i//ncol][i%ncol].set_title(f\"{int(score * 100)/100}, {ix}, {products[ix]['price']}\")\n",
    "\n",
    "        axs[i//ncol][i%ncol].axis('off')\n",
    "\n",
    "    plt.show()\n",
    "    for ix in top_indices:\n",
    "        url = 'https://www.myntra.com/' + products[ix]['landingPageUrl']\n",
    "        print(f'{ix}\\t{url}')\n",
    "\n",
    "def mashup(image_ixs, nrow=5, ncol=5, figsize=(10, 10)):\n",
    "    mean_embedding = all_images_features_tensor[torch.tensor(image_ixs)].mean(dim=0)\n",
    "    mean_embedding /= mean_embedding.norm()\n",
    "\n",
    "    plotKNN(mean_embedding, nrow, ncol, figsize, title='Mashup :' + str(image_ixs))\n",
    "\n",
    "def ask(query, nrow=5, ncol=5, figsize=(10, 10)):\n",
    "    text = tokenizer([query])\n",
    "    text_features = model.encode_text(text)\n",
    "    text_features /= text_features.norm(dim=-1, keepdim=True)\n",
    "\n",
    "    plotKNN(text_features, nrow, ncol, figsize, title=query)\n",
    "\n",
    "def similar(image_ix, nrow=5, ncol=5, figsize=(10, 10)):\n",
    "    base_image_feature = all_images_features_tensor[image_ix]\n",
    "    base_image_feature /= base_image_feature.norm()\n",
    "    plotKNN(base_image_feature, nrow, ncol, figsize, title=f'Similar: {image_ix}')\n",
    "\n",
    "def mashup_all(image_ixs, queries, nrow=5, ncol=5, figsize=(20, 20)):\n",
    "    image_mean_embedding = all_images_features_tensor[torch.tensor(image_ixs)].mean(dim=0)\n",
    "    image_mean_embedding /= image_mean_embedding.norm()\n",
    "\n",
    "    query_embedding = model.encode_text(tokenizer(queries))\n",
    "    query_embedding /= query_embedding.norm(dim=-1, keepdim=True)\n",
    "    query_embedding = query_embedding.mean(dim=0)\n",
    "\n",
    "    final_embedding = torch.stack([image_mean_embedding, query_embedding]).mean(dim=0)\n",
    "    final_embedding /= final_embedding.norm(dim=0)\n",
    "    plotKNN(final_embedding, nrow, ncol, figsize, title='Mashup: ' + str(image_ixs) + ', ' + ','.join(queries))"
   ]
  },
  {
   "cell_type": "code",
   "execution_count": null,
   "metadata": {},
   "outputs": [],
   "source": [
    "# ask(\"work wear tops\")\n",
    "# ask(\"basic tops\", [20, 20])\n",
    "# similar(14998, figsize=(20, 20))\n",
    "# similar(16819, figsize=(20, 20))\n",
    "# mashup_all([14998, 15334, 14552], ['corset top'], figsize=(20, 20))\n",
    "# similar(7745, figsize=(20, 20))\n",
    "# mashup_all([14248], ['sunflower pattern'], figsize=(20, 20))\n",
    "# mashup([7745, 5036], figsize=(20, 20))\n",
    "# ask(\"light turtleneck with dark color\", figsize=(20, 20))\n",
    "# ask(\"sexy fine dine date dress corset top\", figsize=(20, 20))\n",
    "similar(493, figsize= (20, 20))\n",
    "# ask(\"casual blazer\", figsize=(20, 20))"
   ]
  }
 ],
 "metadata": {
  "kernelspec": {
   "display_name": "Python 3",
   "language": "python",
   "name": "python3"
  },
  "language_info": {
   "codemirror_mode": {
    "name": "ipython",
    "version": 3
   },
   "file_extension": ".py",
   "mimetype": "text/x-python",
   "name": "python",
   "nbconvert_exporter": "python",
   "pygments_lexer": "ipython3",
   "version": "3.10.11"
  },
  "orig_nbformat": 4
 },
 "nbformat": 4,
 "nbformat_minor": 2
}
