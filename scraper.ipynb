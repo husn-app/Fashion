{
 "cells": [
  {
   "cell_type": "code",
   "execution_count": 6,
   "metadata": {},
   "outputs": [],
   "source": [
    "import requests\n",
    "from bs4 import BeautifulSoup\n",
    "import json\n",
    "import time\n",
    "import pandas as pd\n",
    "from tqdm import tqdm"
   ]
  },
  {
   "cell_type": "code",
   "execution_count": 2,
   "metadata": {},
   "outputs": [],
   "source": [
    "def parseData(response):\n",
    "    soup = BeautifulSoup(response.text, 'html.parser')\n",
    "    scripts = soup.find_all('script')\n",
    "\n",
    "    for script in scripts:\n",
    "        # print(script)\n",
    "        if 'window.__myx = ' in script.text:\n",
    "            json_str = script.text.split('window.__myx = ')[1]\n",
    "            return json.loads(json_str)\n",
    "        \n",
    "def saveData(page, scraped_json):\n",
    "    with open(f'scraped/{page}.json', 'w') as f:\n",
    "        json.dump(scraped_json, f)\n",
    "\n",
    "def parse_and_dump(page, response):\n",
    "    scraped_json = parseData(response)\n",
    "    saveData(page, scraped_json)"
   ]
  },
  {
   "cell_type": "code",
   "execution_count": 3,
   "metadata": {},
   "outputs": [],
   "source": [
    "NUM_PAGES=6338\n",
    "headers={\"User-Agent\": \"Mozilla/5.0 (X11; CrOS x86_64 12871.102.0) AppleWebKit/537.36 (KHTML, like Gecko) Chrome/81.0.4044.141 Safari/537.36\"}\n",
    "def scrape_all():\n",
    "    for page in range(1, NUM_PAGES + 1):\n",
    "        print(\"Scraping: \", page)\n",
    "        r = requests.get(f'https://www.myntra.com/womens-western-wear?p={page}', headers=headers)\n",
    "        parse_and_dump(page, r)\n",
    "        print(\"Saved:    \", page)\n",
    "        time.sleep(0.4)"
   ]
  },
  {
   "cell_type": "code",
   "execution_count": 8,
   "metadata": {},
   "outputs": [],
   "source": [
    "SELECTED_PRODUCT_KEYS = ['landingPageUrl', 'productId', 'product', 'productName', 'rating', 'ratingCount',\n",
    "'isFastFashion', 'brand', 'searchImage', 'sizes', 'gender', 'primaryColour', 'additionalInfo', 'category',\n",
    "'price', 'articleType', 'subCategory', 'masterCategory']\n"
   ]
  },
  {
   "cell_type": "code",
   "execution_count": null,
   "metadata": {},
   "outputs": [],
   "source": []
  }
 ],
 "metadata": {
  "kernelspec": {
   "display_name": "sd",
   "language": "python",
   "name": "python3"
  },
  "language_info": {
   "codemirror_mode": {
    "name": "ipython",
    "version": 3
   },
   "file_extension": ".py",
   "mimetype": "text/x-python",
   "name": "python",
   "nbconvert_exporter": "python",
   "pygments_lexer": "ipython3",
   "version": "3.10.11"
  },
  "orig_nbformat": 4
 },
 "nbformat": 4,
 "nbformat_minor": 2
}
