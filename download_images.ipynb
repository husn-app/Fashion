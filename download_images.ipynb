{
 "cells": [
  {
   "cell_type": "code",
   "execution_count": 1,
   "metadata": {},
   "outputs": [],
   "source": [
    "from concurrent.futures import ThreadPoolExecutor\n",
    "import urllib.request\n",
    "import concurrent\n",
    "import pandas as pd\n",
    "import os\n",
    "from tqdm import tqdm\n",
    "from PIL import Image"
   ]
  },
  {
   "attachments": {},
   "cell_type": "markdown",
   "metadata": {},
   "source": [
    "### Get Missing images"
   ]
  },
  {
   "cell_type": "code",
   "execution_count": 2,
   "metadata": {},
   "outputs": [],
   "source": [
    "def get_file_path_from_url(url):\n",
    "    return '-'.join(url.split('/')[5:])"
   ]
  },
  {
   "cell_type": "code",
   "execution_count": 3,
   "metadata": {},
   "outputs": [
    {
     "name": "stdout",
     "output_type": "stream",
     "text": [
      "Download Images:  307624\n",
      "Missing images:  7\n"
     ]
    }
   ],
   "source": [
    "def get_missing_images():\n",
    "    all_images = pd.read_csv('products.csv')['searchImage'].tolist()\n",
    "    downloaded_images = set(os.listdir('assets'))\n",
    "\n",
    "    print('Download Images: ', len(downloaded_images))\n",
    "\n",
    "    missing_images_set, missing_images = set(), []\n",
    "\n",
    "    for url in all_images:\n",
    "        if get_file_path_from_url(url) in downloaded_images:\n",
    "            continue\n",
    "        if url in missing_images_set:\n",
    "            continue\n",
    "        missing_images.append(url)\n",
    "        missing_images_set.add(url)\n",
    "\n",
    "    print('Missing images: ', len(missing_images))\n",
    "    return missing_images\n",
    "missing_images = get_missing_images()"
   ]
  },
  {
   "attachments": {},
   "cell_type": "markdown",
   "metadata": {},
   "source": [
    "### Download Images"
   ]
  },
  {
   "cell_type": "code",
   "execution_count": 4,
   "metadata": {},
   "outputs": [],
   "source": [
    "def download_image(image_url):\n",
    "    print(image_url)\n",
    "    file_name = 'assets/' + get_file_path_from_url(image_url)\n",
    "    urllib.request.urlretrieve(image_url, file_name)\n",
    "\n",
    "def multithreaded_download(images, num_threads):\n",
    "    with ThreadPoolExecutor(max_workers=num_threads) as executor:\n",
    "        futures = [executor.submit(download_image, image) for image in tqdm(images)]\n",
    "        for future in concurrent.futures.as_completed(futures):\n",
    "            try:\n",
    "                future.result(timeout=0.5)\n",
    "            except concurrent.futures.TimeoutError:\n",
    "                print(\"A thread took too long and was terminated.\")\n",
    "\n",
    "def singlethreaded_download(images):\n",
    "    for image in images:\n",
    "        download_image(image)\n",
    "# multithreaded_download(missing_images, 30)\n",
    "# singlethreaded_download(missing_images)"
   ]
  },
  {
   "attachments": {},
   "cell_type": "markdown",
   "metadata": {},
   "source": [
    "### Resize Images"
   ]
  },
  {
   "cell_type": "code",
   "execution_count": 5,
   "metadata": {},
   "outputs": [],
   "source": [
    "def resize_images(files, size=(224, 224)):\n",
    "    input_folder = 'assets'\n",
    "    output_folder = 'assets-224-224'\n",
    "    for file in files:\n",
    "        img = Image.open(input_folder + '/' + file)\n",
    "        img = img.resize(size, Image.BICUBIC)\n",
    "        img.save(output_folder + '/' + file)\n",
    "        del img\n",
    "\n",
    "def get_image_files():\n",
    "    processed = set(os.listdir('assets-224-224'))\n",
    "    image_files = [x for x in os.listdir('assets') if x not in processed]\n",
    "    return image_files\n",
    "\n",
    "def multithreaded_resize_images(num_threads=10, batch_size=200):\n",
    "    image_files = get_image_files()\n",
    "    print('received image files')\n",
    "    with concurrent.futures.ThreadPoolExecutor(max_workers=num_threads) as executor:\n",
    "        for i in range(0, len(image_files), batch_size):\n",
    "            executor.submit(resize_images, image_files[i:min(i+batch_size, len(image_files))])"
   ]
  }
 ],
 "metadata": {
  "kernelspec": {
   "display_name": "sd",
   "language": "python",
   "name": "python3"
  },
  "language_info": {
   "codemirror_mode": {
    "name": "ipython",
    "version": 3
   },
   "file_extension": ".py",
   "mimetype": "text/x-python",
   "name": "python",
   "nbconvert_exporter": "python",
   "pygments_lexer": "ipython3",
   "version": "3.10.11"
  },
  "orig_nbformat": 4
 },
 "nbformat": 4,
 "nbformat_minor": 2
}
