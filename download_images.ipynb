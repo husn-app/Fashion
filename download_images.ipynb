{
 "cells": [
  {
   "cell_type": "code",
   "execution_count": 1,
   "metadata": {},
   "outputs": [],
   "source": [
    "from concurrent.futures import ThreadPoolExecutor\n",
    "import urllib.request\n",
    "import concurrent"
   ]
  },
  {
   "cell_type": "code",
   "execution_count": null,
   "metadata": {},
   "outputs": [],
   "source": [
    "SELECTED_PRODUCT_KEYS = ['landingPageUrl', 'productId', 'product', 'productName', 'rating', 'ratingCount', 'isFastFashion', 'brand', 'searchImage', 'sizes', 'gender', 'primaryColour', 'additionalInfo', 'category', 'price', 'articleType', 'subCategory', 'masterCategory']\n",
    "\n",
    "def get_scraped_products():\n",
    "    NUM_PAGES=6338\n",
    "    products = []\n",
    "    for page in range(1, NUM_PAGES + 1):\n",
    "        try:\n",
    "            data = json.loads(open(f'scraped/{page}.json').read())\n",
    "            products = data['searchData']['results']['products']\n",
    "            image_to_product.update({get_file_path_from_url(x['searchImage']) : x for x in products if 'searchImage' in x})\n",
    "        except Exception as e:\n",
    "            print(page, e)\n",
    "\n",
    "    products = []\n",
    "    for i, img in enumerate(all_images[:20000]):\n",
    "        products.append(image_to_product[img])"
   ]
  },
  {
   "cell_type": "code",
   "execution_count": 2,
   "metadata": {},
   "outputs": [],
   "source": [
    "def download_image(image_url):\n",
    "    print(image_url)\n",
    "    file_name = 'assets/' + get_file_path_from_url(image_url)\n",
    "    urllib.request.urlretrieve(image_url, file_name)\n",
    "\n",
    "def multithreaded_download(images, num_threads):\n",
    "    with ThreadPoolExecutor(max_workers=num_threads) as executor:\n",
    "        futures = [executor.submit(download_image, image) for image in tqdm(images)]\n",
    "        for future in concurrent.futures.as_completed(futures):\n",
    "            try:\n",
    "                future.result(timeout=0.5)\n",
    "            except concurrent.futures.TimeoutError:\n",
    "                print(\"A thread took too long and was terminated.\")\n",
    "\n",
    "def singlethreaded_download(images):\n",
    "    for image in images:\n",
    "        download_image(image)\n",
    "\n",
    "# multithreaded_download(remaining_images, 30)\n",
    "# singlethreaded_download(remaining_images)"
   ]
  }
 ],
 "metadata": {
  "kernelspec": {
   "display_name": "sd",
   "language": "python",
   "name": "python3"
  },
  "language_info": {
   "codemirror_mode": {
    "name": "ipython",
    "version": 3
   },
   "file_extension": ".py",
   "mimetype": "text/x-python",
   "name": "python",
   "nbconvert_exporter": "python",
   "pygments_lexer": "ipython3",
   "version": "3.10.11"
  },
  "orig_nbformat": 4
 },
 "nbformat": 4,
 "nbformat_minor": 2
}
