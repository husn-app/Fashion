{
 "cells": [
  {
   "cell_type": "code",
   "execution_count": 10,
   "metadata": {},
   "outputs": [
    {
     "name": "stderr",
     "output_type": "stream",
     "text": [
      "/Users/pshishodia/projects/Fashion/venv/lib/python3.12/site-packages/tqdm/auto.py:21: TqdmWarning: IProgress not found. Please update jupyter and ipywidgets. See https://ipywidgets.readthedocs.io/en/stable/user_install.html\n",
      "  from .autonotebook import tqdm as notebook_tqdm\n"
     ]
    }
   ],
   "source": [
    "import torch\n",
    "import numpy as np\n",
    "from tqdm import tqdm\n",
    "import os\n",
    "import torchvision\n",
    "from PIL import Image\n",
    "import open_clip\n"
   ]
  },
  {
   "cell_type": "code",
   "execution_count": 8,
   "metadata": {},
   "outputs": [
    {
     "data": {
      "text/plain": [
       "<torch.autograd.grad_mode.set_grad_enabled at 0x12a4df260>"
      ]
     },
     "execution_count": 8,
     "metadata": {},
     "output_type": "execute_result"
    }
   ],
   "source": [
    "device = \"mps\" if torch.cuda.is_available() else \"cpu\"\n",
    "torch.set_grad_enabled(False)"
   ]
  },
  {
   "cell_type": "code",
   "execution_count": 11,
   "metadata": {},
   "outputs": [
    {
     "name": "stderr",
     "output_type": "stream",
     "text": [
      "/Users/pshishodia/projects/Fashion/venv/lib/python3.12/site-packages/open_clip/factory.py:129: FutureWarning: You are using `torch.load` with `weights_only=False` (the current default value), which uses the default pickle module implicitly. It is possible to construct malicious pickle data which will execute arbitrary code during unpickling (See https://github.com/pytorch/pytorch/blob/main/SECURITY.md#untrusted-models for more details). In a future release, the default value for `weights_only` will be flipped to `True`. This limits the functions that could be executed during unpickling. Arbitrary objects will no longer be allowed to be loaded via this mode unless they are explicitly allowlisted by the user via `torch.serialization.add_safe_globals`. We recommend you start setting `weights_only=True` for any use case where you don't have full control of the loaded file. Please open an issue on GitHub for any issues related to this experimental feature.\n",
      "  checkpoint = torch.load(checkpoint_path, map_location=map_location)\n"
     ]
    },
    {
     "name": "stdout",
     "output_type": "stream",
     "text": [
      "CPU times: user 4.21 s, sys: 1.54 s, total: 5.75 s\n",
      "Wall time: 22 s\n"
     ]
    }
   ],
   "source": [
    "%%time\n",
    "model, _, preprocess = open_clip.create_model_and_transforms('ViT-B-32', pretrained='laion2b_s34b_b79k')\n",
    "model = model.to(device)"
   ]
  },
  {
   "cell_type": "code",
   "execution_count": 14,
   "metadata": {},
   "outputs": [],
   "source": [
    "all_images = os.listdir('assets-224')"
   ]
  },
  {
   "cell_type": "code",
   "execution_count": 15,
   "metadata": {},
   "outputs": [
    {
     "data": {
      "text/plain": [
       "torch.Size([224, 224, 3])"
      ]
     },
     "execution_count": 15,
     "metadata": {},
     "output_type": "execute_result"
    }
   ],
   "source": [
    "INPUT_DIR = 'assets-224'\n",
    "\n",
    "torch.from_numpy(np.array(Image.open(INPUT_DIR + '/' + all_images[0]))).shape"
   ]
  },
  {
   "cell_type": "code",
   "execution_count": 25,
   "metadata": {},
   "outputs": [
    {
     "name": "stderr",
     "output_type": "stream",
     "text": [
      "100%|██████████| 615/615 [1:02:26<00:00,  6.09s/it]\n"
     ]
    }
   ],
   "source": [
    "INPUT_DIR = 'assets-224'\n",
    "batch_size=500\n",
    "\n",
    "all_images_features = []\n",
    "for i in tqdm(range(0, len(all_images), batch_size)):\n",
    "    batch_images = all_images[i:i+batch_size]\n",
    "    batch_images = [preprocess(Image.open(INPUT_DIR + '/' + img_path)).unsqueeze(0) for img_path in batch_images]\n",
    "    batch_images = torch.cat(batch_images, 0).to(device)\n",
    "\n",
    "    batch_features = model.encode_image(batch_images)\n",
    "    \n",
    "    all_images_features.extend(batch_features)"
   ]
  },
  {
   "cell_type": "code",
   "execution_count": 26,
   "metadata": {},
   "outputs": [],
   "source": [
    "embeddings_tensor = torch.stack(all_images_features)\n",
    "torch.save(embeddings_tensor, 'image_embeddings_before.pt')"
   ]
  },
  {
   "cell_type": "code",
   "execution_count": 27,
   "metadata": {},
   "outputs": [
    {
     "name": "stderr",
     "output_type": "stream",
     "text": [
      "307184it [00:03, 91430.14it/s]\n"
     ]
    }
   ],
   "source": [
    "from tqdm import tqdm\n",
    "import pandas as pd\n",
    "\n",
    "## create img_path -> ix\n",
    "image_url_to_idx = {}\n",
    "for i, img_path in enumerate(all_images):\n",
    "    image_url_to_idx[img_path] = i\n",
    "\n",
    "def get_file_path_from_url(url):\n",
    "    return '-'.join(url.split('/')[5:])\n",
    "\n",
    "df = pd.read_csv('products_minimal.csv')\n",
    "\n",
    "embedding_indexes = []\n",
    "for _, row in tqdm(df.iterrows()):\n",
    "    img_path = get_file_path_from_url(row['searchImage'])\n",
    "    if img_path not in image_url_to_idx:\n",
    "       print(f'img_path : {img_path}, index : {row['index']}')\n",
    "       \n",
    "    embedding_indexes.append(image_url_to_idx[img_path])"
   ]
  },
  {
   "cell_type": "code",
   "execution_count": 29,
   "metadata": {},
   "outputs": [],
   "source": [
    "image_features_post = [all_images_features[ix] for ix in embedding_indexes]\n",
    "embeddings_tensor = torch.stack(image_features_post)\n",
    "torch.save(embeddings_tensor, 'image_embeddings_kaggle.pt')"
   ]
  },
  {
   "cell_type": "code",
   "execution_count": 5,
   "metadata": {},
   "outputs": [],
   "source": [
    "## Old code ... do not edit. \n",
    "def save_all_images_as_tensor():\n",
    "    batch_size = 500\n",
    "    all_images = os.listdir(IMAGE_DIR)\n",
    "    image_shape = torch.from_numpy(np.array(Image.open(IMAGE_DIR + '/' + all_images[0]))).shape\n",
    "    all_images_tensors = torch.empty((len(all_images),) + image_shape, dtype=torch.uint8)\n",
    "\n",
    "    for i in tqdm(range(0, len(all_images), batch_size)):\n",
    "        batch_images = all_images[i:i+batch_size]\n",
    "\n",
    "        batch_images = [torch.from_numpy(np.array(Image.open(IMAGE_DIR + '/' + img_path).convert('RGB'))) for img_path in batch_images]\n",
    "\n",
    "        all_images_tensors[i:i+batch_size] = torch.stack(batch_images)\n",
    "\n",
    "    print(all_images_tensors.shape)\n",
    "    return all_images_tensors"
   ]
  },
  {
   "cell_type": "code",
   "execution_count": 7,
   "metadata": {},
   "outputs": [],
   "source": [
    "normalize=torchvision.transforms.Normalize(mean=(0.48145466, 0.4578275, 0.40821073), std=(0.26862954, 0.26130258, 0.27577711))"
   ]
  },
  {
   "cell_type": "code",
   "execution_count": null,
   "metadata": {},
   "outputs": [],
   "source": []
  }
 ],
 "metadata": {
  "kernelspec": {
   "display_name": "sd",
   "language": "python",
   "name": "python3"
  },
  "language_info": {
   "codemirror_mode": {
    "name": "ipython",
    "version": 3
   },
   "file_extension": ".py",
   "mimetype": "text/x-python",
   "name": "python",
   "nbconvert_exporter": "python",
   "pygments_lexer": "ipython3",
   "version": "3.12.3"
  },
  "orig_nbformat": 4
 },
 "nbformat": 4,
 "nbformat_minor": 2
}
