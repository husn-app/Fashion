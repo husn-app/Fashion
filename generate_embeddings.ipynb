{
 "cells": [
  {
   "cell_type": "code",
   "execution_count": 2,
   "metadata": {},
   "outputs": [],
   "source": [
    "import torch\n",
    "import numpy as np\n",
    "from tqdm import tqdm"
   ]
  },
  {
   "cell_type": "code",
   "execution_count": null,
   "metadata": {},
   "outputs": [],
   "source": [
    "IMAGE_DIR = 'assets-224'"
   ]
  },
  {
   "cell_type": "code",
   "execution_count": null,
   "metadata": {},
   "outputs": [],
   "source": [
    "def save_all_images_as_tensor():\n",
    "    batch_size = 500\n",
    "    all_images = os.listdir(IMAGE_DIR)\n",
    "    image_shape = torch.from_numpy(np.array(Image.open(IMAGE_DIR + '/' + all_images[0]))).shape\n",
    "    all_images_tensors = torch.empty((len(all_images),) + image_shape, dtype=torch.uint8)\n",
    "\n",
    "    for i in tqdm(range(0, len(all_images), batch_size)):\n",
    "        batch_images = all_images[i:i+batch_size]\n",
    "\n",
    "        batch_images = [torch.from_numpy(np.array(Image.open(IMAGE_DIR + '/' + img_path).convert('RGB'))) for img_path in batch_images]\n",
    "\n",
    "        all_images_tensors[i:i+batch_size] = torch.stack(batch_images)\n",
    "\n",
    "    print(all_images_tensors.shape)\n",
    "    return all_images_tensors"
   ]
  }
 ],
 "metadata": {
  "kernelspec": {
   "display_name": "sd",
   "language": "python",
   "name": "python3"
  },
  "language_info": {
   "codemirror_mode": {
    "name": "ipython",
    "version": 3
   },
   "file_extension": ".py",
   "mimetype": "text/x-python",
   "name": "python",
   "nbconvert_exporter": "python",
   "pygments_lexer": "ipython3",
   "version": "3.10.11"
  },
  "orig_nbformat": 4
 },
 "nbformat": 4,
 "nbformat_minor": 2
}
