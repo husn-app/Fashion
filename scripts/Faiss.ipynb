{
  "nbformat": 4,
  "nbformat_minor": 0,
  "metadata": {
    "colab": {
      "provenance": []
    },
    "kernelspec": {
      "name": "python3",
      "display_name": "Python 3"
    },
    "language_info": {
      "name": "python"
    },
    "widgets": {
      "application/vnd.jupyter.widget-state+json": {
        "bc6d4edfeae64e98b981a38396ab3ceb": {
          "model_module": "@jupyter-widgets/controls",
          "model_name": "HBoxModel",
          "model_module_version": "1.5.0",
          "state": {
            "_dom_classes": [],
            "_model_module": "@jupyter-widgets/controls",
            "_model_module_version": "1.5.0",
            "_model_name": "HBoxModel",
            "_view_count": null,
            "_view_module": "@jupyter-widgets/controls",
            "_view_module_version": "1.5.0",
            "_view_name": "HBoxView",
            "box_style": "",
            "children": [
              "IPY_MODEL_e0419d456875401aaf91e067a7a53073",
              "IPY_MODEL_72154b56a82c4afb99482cba449a4705",
              "IPY_MODEL_1be1e549dff74e20a6ea98df51a14b18"
            ],
            "layout": "IPY_MODEL_232e571095264b7daf4eaf04f78fc9c3"
          }
        },
        "e0419d456875401aaf91e067a7a53073": {
          "model_module": "@jupyter-widgets/controls",
          "model_name": "HTMLModel",
          "model_module_version": "1.5.0",
          "state": {
            "_dom_classes": [],
            "_model_module": "@jupyter-widgets/controls",
            "_model_module_version": "1.5.0",
            "_model_name": "HTMLModel",
            "_view_count": null,
            "_view_module": "@jupyter-widgets/controls",
            "_view_module_version": "1.5.0",
            "_view_name": "HTMLView",
            "description": "",
            "description_tooltip": null,
            "layout": "IPY_MODEL_142f5ed133b448f2b673a34b1e4458d0",
            "placeholder": "​",
            "style": "IPY_MODEL_ba1b1af46c88417b847de525ed71bd51",
            "value": "open_clip_pytorch_model.bin: 100%"
          }
        },
        "72154b56a82c4afb99482cba449a4705": {
          "model_module": "@jupyter-widgets/controls",
          "model_name": "FloatProgressModel",
          "model_module_version": "1.5.0",
          "state": {
            "_dom_classes": [],
            "_model_module": "@jupyter-widgets/controls",
            "_model_module_version": "1.5.0",
            "_model_name": "FloatProgressModel",
            "_view_count": null,
            "_view_module": "@jupyter-widgets/controls",
            "_view_module_version": "1.5.0",
            "_view_name": "ProgressView",
            "bar_style": "success",
            "description": "",
            "description_tooltip": null,
            "layout": "IPY_MODEL_3474c7f99f17471a8634b8b903cb6b14",
            "max": 605219813,
            "min": 0,
            "orientation": "horizontal",
            "style": "IPY_MODEL_bdb6a22c319c41ff95e291c76fba8a54",
            "value": 605219813
          }
        },
        "1be1e549dff74e20a6ea98df51a14b18": {
          "model_module": "@jupyter-widgets/controls",
          "model_name": "HTMLModel",
          "model_module_version": "1.5.0",
          "state": {
            "_dom_classes": [],
            "_model_module": "@jupyter-widgets/controls",
            "_model_module_version": "1.5.0",
            "_model_name": "HTMLModel",
            "_view_count": null,
            "_view_module": "@jupyter-widgets/controls",
            "_view_module_version": "1.5.0",
            "_view_name": "HTMLView",
            "description": "",
            "description_tooltip": null,
            "layout": "IPY_MODEL_4e54578a2bc44c398aed9235f2e97288",
            "placeholder": "​",
            "style": "IPY_MODEL_12f09a46dcdd46b7874b2ce310823ab8",
            "value": " 605M/605M [00:07&lt;00:00, 133MB/s]"
          }
        },
        "232e571095264b7daf4eaf04f78fc9c3": {
          "model_module": "@jupyter-widgets/base",
          "model_name": "LayoutModel",
          "model_module_version": "1.2.0",
          "state": {
            "_model_module": "@jupyter-widgets/base",
            "_model_module_version": "1.2.0",
            "_model_name": "LayoutModel",
            "_view_count": null,
            "_view_module": "@jupyter-widgets/base",
            "_view_module_version": "1.2.0",
            "_view_name": "LayoutView",
            "align_content": null,
            "align_items": null,
            "align_self": null,
            "border": null,
            "bottom": null,
            "display": null,
            "flex": null,
            "flex_flow": null,
            "grid_area": null,
            "grid_auto_columns": null,
            "grid_auto_flow": null,
            "grid_auto_rows": null,
            "grid_column": null,
            "grid_gap": null,
            "grid_row": null,
            "grid_template_areas": null,
            "grid_template_columns": null,
            "grid_template_rows": null,
            "height": null,
            "justify_content": null,
            "justify_items": null,
            "left": null,
            "margin": null,
            "max_height": null,
            "max_width": null,
            "min_height": null,
            "min_width": null,
            "object_fit": null,
            "object_position": null,
            "order": null,
            "overflow": null,
            "overflow_x": null,
            "overflow_y": null,
            "padding": null,
            "right": null,
            "top": null,
            "visibility": null,
            "width": null
          }
        },
        "142f5ed133b448f2b673a34b1e4458d0": {
          "model_module": "@jupyter-widgets/base",
          "model_name": "LayoutModel",
          "model_module_version": "1.2.0",
          "state": {
            "_model_module": "@jupyter-widgets/base",
            "_model_module_version": "1.2.0",
            "_model_name": "LayoutModel",
            "_view_count": null,
            "_view_module": "@jupyter-widgets/base",
            "_view_module_version": "1.2.0",
            "_view_name": "LayoutView",
            "align_content": null,
            "align_items": null,
            "align_self": null,
            "border": null,
            "bottom": null,
            "display": null,
            "flex": null,
            "flex_flow": null,
            "grid_area": null,
            "grid_auto_columns": null,
            "grid_auto_flow": null,
            "grid_auto_rows": null,
            "grid_column": null,
            "grid_gap": null,
            "grid_row": null,
            "grid_template_areas": null,
            "grid_template_columns": null,
            "grid_template_rows": null,
            "height": null,
            "justify_content": null,
            "justify_items": null,
            "left": null,
            "margin": null,
            "max_height": null,
            "max_width": null,
            "min_height": null,
            "min_width": null,
            "object_fit": null,
            "object_position": null,
            "order": null,
            "overflow": null,
            "overflow_x": null,
            "overflow_y": null,
            "padding": null,
            "right": null,
            "top": null,
            "visibility": null,
            "width": null
          }
        },
        "ba1b1af46c88417b847de525ed71bd51": {
          "model_module": "@jupyter-widgets/controls",
          "model_name": "DescriptionStyleModel",
          "model_module_version": "1.5.0",
          "state": {
            "_model_module": "@jupyter-widgets/controls",
            "_model_module_version": "1.5.0",
            "_model_name": "DescriptionStyleModel",
            "_view_count": null,
            "_view_module": "@jupyter-widgets/base",
            "_view_module_version": "1.2.0",
            "_view_name": "StyleView",
            "description_width": ""
          }
        },
        "3474c7f99f17471a8634b8b903cb6b14": {
          "model_module": "@jupyter-widgets/base",
          "model_name": "LayoutModel",
          "model_module_version": "1.2.0",
          "state": {
            "_model_module": "@jupyter-widgets/base",
            "_model_module_version": "1.2.0",
            "_model_name": "LayoutModel",
            "_view_count": null,
            "_view_module": "@jupyter-widgets/base",
            "_view_module_version": "1.2.0",
            "_view_name": "LayoutView",
            "align_content": null,
            "align_items": null,
            "align_self": null,
            "border": null,
            "bottom": null,
            "display": null,
            "flex": null,
            "flex_flow": null,
            "grid_area": null,
            "grid_auto_columns": null,
            "grid_auto_flow": null,
            "grid_auto_rows": null,
            "grid_column": null,
            "grid_gap": null,
            "grid_row": null,
            "grid_template_areas": null,
            "grid_template_columns": null,
            "grid_template_rows": null,
            "height": null,
            "justify_content": null,
            "justify_items": null,
            "left": null,
            "margin": null,
            "max_height": null,
            "max_width": null,
            "min_height": null,
            "min_width": null,
            "object_fit": null,
            "object_position": null,
            "order": null,
            "overflow": null,
            "overflow_x": null,
            "overflow_y": null,
            "padding": null,
            "right": null,
            "top": null,
            "visibility": null,
            "width": null
          }
        },
        "bdb6a22c319c41ff95e291c76fba8a54": {
          "model_module": "@jupyter-widgets/controls",
          "model_name": "ProgressStyleModel",
          "model_module_version": "1.5.0",
          "state": {
            "_model_module": "@jupyter-widgets/controls",
            "_model_module_version": "1.5.0",
            "_model_name": "ProgressStyleModel",
            "_view_count": null,
            "_view_module": "@jupyter-widgets/base",
            "_view_module_version": "1.2.0",
            "_view_name": "StyleView",
            "bar_color": null,
            "description_width": ""
          }
        },
        "4e54578a2bc44c398aed9235f2e97288": {
          "model_module": "@jupyter-widgets/base",
          "model_name": "LayoutModel",
          "model_module_version": "1.2.0",
          "state": {
            "_model_module": "@jupyter-widgets/base",
            "_model_module_version": "1.2.0",
            "_model_name": "LayoutModel",
            "_view_count": null,
            "_view_module": "@jupyter-widgets/base",
            "_view_module_version": "1.2.0",
            "_view_name": "LayoutView",
            "align_content": null,
            "align_items": null,
            "align_self": null,
            "border": null,
            "bottom": null,
            "display": null,
            "flex": null,
            "flex_flow": null,
            "grid_area": null,
            "grid_auto_columns": null,
            "grid_auto_flow": null,
            "grid_auto_rows": null,
            "grid_column": null,
            "grid_gap": null,
            "grid_row": null,
            "grid_template_areas": null,
            "grid_template_columns": null,
            "grid_template_rows": null,
            "height": null,
            "justify_content": null,
            "justify_items": null,
            "left": null,
            "margin": null,
            "max_height": null,
            "max_width": null,
            "min_height": null,
            "min_width": null,
            "object_fit": null,
            "object_position": null,
            "order": null,
            "overflow": null,
            "overflow_x": null,
            "overflow_y": null,
            "padding": null,
            "right": null,
            "top": null,
            "visibility": null,
            "width": null
          }
        },
        "12f09a46dcdd46b7874b2ce310823ab8": {
          "model_module": "@jupyter-widgets/controls",
          "model_name": "DescriptionStyleModel",
          "model_module_version": "1.5.0",
          "state": {
            "_model_module": "@jupyter-widgets/controls",
            "_model_module_version": "1.5.0",
            "_model_name": "DescriptionStyleModel",
            "_view_count": null,
            "_view_module": "@jupyter-widgets/base",
            "_view_module_version": "1.2.0",
            "_view_name": "StyleView",
            "description_width": ""
          }
        }
      }
    }
  },
  "cells": [
    {
      "cell_type": "code",
      "source": [
        "from google.colab import userdata\n",
        "GITHUB_TOKEN=userdata.get('GITHUB_TOKEN')"
      ],
      "metadata": {
        "id": "_WLwC4fmBOW3"
      },
      "execution_count": 22,
      "outputs": []
    },
    {
      "cell_type": "code",
      "execution_count": 3,
      "metadata": {
        "colab": {
          "base_uri": "https://localhost:8080/"
        },
        "id": "NNS1ROOXACdd",
        "outputId": "88616ec1-3965-4624-9a58-3b6f4f34677f"
      },
      "outputs": [
        {
          "output_type": "stream",
          "name": "stdout",
          "text": [
            "Reading package lists... Done\n",
            "Building dependency tree... Done\n",
            "Reading state information... Done\n",
            "git-lfs is already the newest version (3.0.2-1ubuntu0.2).\n",
            "0 upgraded, 0 newly installed, 0 to remove and 49 not upgraded.\n"
          ]
        }
      ],
      "source": [
        "!git lfs install\n",
        "!git clone !git clone https://{GITHUB_TOKEN}@github.com/husn-app/Fashion.git\n",
        "!apt-get install git-lfs\n",
        "!cd Fashion"
      ]
    },
    {
      "cell_type": "code",
      "source": [
        "%%capture\n",
        "pip install faiss-cpu open_clip_torch"
      ],
      "metadata": {
        "id": "b4dC17lfBmB8"
      },
      "execution_count": 32,
      "outputs": []
    },
    {
      "cell_type": "code",
      "source": [
        "import faiss, torch, statistics\n",
        "import numpy as np\n",
        "import open_clip\n",
        "from tqdm import tqdm\n",
        "\n",
        "torch.set_grad_enabled(False)"
      ],
      "metadata": {
        "colab": {
          "base_uri": "https://localhost:8080/"
        },
        "id": "rNNYPPgbDQbf",
        "outputId": "e44692ba-389a-4772-81b8-bfb06eee8424"
      },
      "execution_count": 52,
      "outputs": [
        {
          "output_type": "execute_result",
          "data": {
            "text/plain": [
              "<torch.autograd.grad_mode.set_grad_enabled at 0x7c83310863e0>"
            ]
          },
          "metadata": {},
          "execution_count": 52
        }
      ]
    },
    {
      "cell_type": "code",
      "source": [
        "!pip3 freeze | grep faiss"
      ],
      "metadata": {
        "colab": {
          "base_uri": "https://localhost:8080/"
        },
        "id": "mMSNbIDVL-f8",
        "outputId": "b408c959-7401-47d4-8c13-5f0354723ea2"
      },
      "execution_count": 93,
      "outputs": [
        {
          "output_type": "stream",
          "name": "stdout",
          "text": [
            "faiss-cpu==1.8.0.post1\n"
          ]
        }
      ]
    },
    {
      "cell_type": "code",
      "source": [
        "image_embeddings = torch.nn.functional.normalize(torch.load('Fashion/image_embeddings_kaggle.pt'))\n",
        "index = faiss.IndexFlatIP(512)\n",
        "index.add(image_embeddings.detach().numpy())"
      ],
      "metadata": {
        "colab": {
          "base_uri": "https://localhost:8080/"
        },
        "id": "3lV5Q-mmBtEv",
        "outputId": "18012732-9d3d-4d64-fbd3-28f11e41ee74"
      },
      "execution_count": 28,
      "outputs": [
        {
          "output_type": "stream",
          "name": "stderr",
          "text": [
            "<ipython-input-28-e49f53986f9c>:5: FutureWarning: You are using `torch.load` with `weights_only=False` (the current default value), which uses the default pickle module implicitly. It is possible to construct malicious pickle data which will execute arbitrary code during unpickling (See https://github.com/pytorch/pytorch/blob/main/SECURITY.md#untrusted-models for more details). In a future release, the default value for `weights_only` will be flipped to `True`. This limits the functions that could be executed during unpickling. Arbitrary objects will no longer be allowed to be loaded via this mode unless they are explicitly allowlisted by the user via `torch.serialization.add_safe_globals`. We recommend you start setting `weights_only=True` for any use case where you don't have full control of the loaded file. Please open an issue on GitHub for any issues related to this experimental feature.\n",
            "  image_embeddings = torch.nn.functional.normalize(torch.load('Fashion/image_embeddings_kaggle.pt'))\n"
          ]
        }
      ]
    },
    {
      "cell_type": "code",
      "source": [
        "similarities, indexes = index.search(np.expand_dims(image_embeddings[0].detach().numpy(),axis=0),  25) # expects a batch. but latency seems to increase linearly with batch size."
      ],
      "metadata": {
        "id": "5UfNRxmWB0E1"
      },
      "execution_count": 29,
      "outputs": []
    },
    {
      "cell_type": "code",
      "source": [
        "queries = [\n",
        "    'parachute jeans with pleats',\n",
        "    'christmas dinner dress',\n",
        "    'jumpsuit for diwali',\n",
        "    'sexy red corset',\n",
        "    'denim jeans with knee pockets',\n",
        "    'Office wear',\n",
        "    'Brunch outfit',\n",
        "    'Feminine Lace Dress with Delicate Detailing',\n",
        "    'Shirt',\n",
        "    'kurta',\n",
        "    'Basic comfy lounge shorts',\n",
        "    'Boolywood sarees for wedding',\n",
        "]"
      ],
      "metadata": {
        "colab": {
          "base_uri": "https://localhost:8080/"
        },
        "id": "i4EQ4AH8CF1E",
        "outputId": "43a25678-73c8-4721-8a90-7f5df7fd3c9e"
      },
      "execution_count": 31,
      "outputs": [
        {
          "output_type": "execute_result",
          "data": {
            "text/plain": [
              "12"
            ]
          },
          "metadata": {},
          "execution_count": 31
        }
      ]
    },
    {
      "cell_type": "code",
      "source": [
        "model, _, preprocess = open_clip.create_model_and_transforms('ViT-B-32', pretrained='laion2b_s34b_b79k')\n",
        "tokenizer = open_clip.get_tokenizer('ViT-B-32')"
      ],
      "metadata": {
        "colab": {
          "base_uri": "https://localhost:8080/",
          "height": 212,
          "referenced_widgets": [
            "bc6d4edfeae64e98b981a38396ab3ceb",
            "e0419d456875401aaf91e067a7a53073",
            "72154b56a82c4afb99482cba449a4705",
            "1be1e549dff74e20a6ea98df51a14b18",
            "232e571095264b7daf4eaf04f78fc9c3",
            "142f5ed133b448f2b673a34b1e4458d0",
            "ba1b1af46c88417b847de525ed71bd51",
            "3474c7f99f17471a8634b8b903cb6b14",
            "bdb6a22c319c41ff95e291c76fba8a54",
            "4e54578a2bc44c398aed9235f2e97288",
            "12f09a46dcdd46b7874b2ce310823ab8"
          ]
        },
        "id": "LBQDNVs6DEwC",
        "outputId": "3d489997-bcc1-4d77-d033-bca6434f76b9"
      },
      "execution_count": 34,
      "outputs": [
        {
          "output_type": "stream",
          "name": "stderr",
          "text": [
            "/usr/local/lib/python3.10/dist-packages/huggingface_hub/utils/_token.py:89: UserWarning: \n",
            "The secret `HF_TOKEN` does not exist in your Colab secrets.\n",
            "To authenticate with the Hugging Face Hub, create a token in your settings tab (https://huggingface.co/settings/tokens), set it as secret in your Google Colab and restart your session.\n",
            "You will be able to reuse this secret in all of your notebooks.\n",
            "Please note that authentication is recommended but still optional to access public models or datasets.\n",
            "  warnings.warn(\n"
          ]
        },
        {
          "output_type": "display_data",
          "data": {
            "text/plain": [
              "open_clip_pytorch_model.bin:   0%|          | 0.00/605M [00:00<?, ?B/s]"
            ],
            "application/vnd.jupyter.widget-view+json": {
              "version_major": 2,
              "version_minor": 0,
              "model_id": "bc6d4edfeae64e98b981a38396ab3ceb"
            }
          },
          "metadata": {}
        },
        {
          "output_type": "stream",
          "name": "stderr",
          "text": [
            "/usr/local/lib/python3.10/dist-packages/open_clip/factory.py:129: FutureWarning: You are using `torch.load` with `weights_only=False` (the current default value), which uses the default pickle module implicitly. It is possible to construct malicious pickle data which will execute arbitrary code during unpickling (See https://github.com/pytorch/pytorch/blob/main/SECURITY.md#untrusted-models for more details). In a future release, the default value for `weights_only` will be flipped to `True`. This limits the functions that could be executed during unpickling. Arbitrary objects will no longer be allowed to be loaded via this mode unless they are explicitly allowlisted by the user via `torch.serialization.add_safe_globals`. We recommend you start setting `weights_only=True` for any use case where you don't have full control of the loaded file. Please open an issue on GitHub for any issues related to this experimental feature.\n",
            "  checkpoint = torch.load(checkpoint_path, map_location=map_location)\n"
          ]
        }
      ]
    },
    {
      "cell_type": "code",
      "source": [
        "tokens = tokenizer(queries)\n",
        "query_embeddings = model.encode_text(tokens)"
      ],
      "metadata": {
        "id": "vS1q9-1aDWgS"
      },
      "execution_count": 36,
      "outputs": []
    },
    {
      "cell_type": "code",
      "source": [
        "query_embeddings = torch.nn.functional.normalize(query_embeddings, dim=-1)"
      ],
      "metadata": {
        "id": "jyCMjwIoDkWQ"
      },
      "execution_count": 42,
      "outputs": []
    },
    {
      "cell_type": "code",
      "source": [
        "def getTopK(base_embedding, K=25):\n",
        "    global image_embeddings\n",
        "    probs = torch.nn.functional.cosine_similarity(image_embeddings, base_embedding.view(1, 512))\n",
        "    topk_indices = probs.topk(K).indices\n",
        "    return topk_indices, probs[topk_indices]"
      ],
      "metadata": {
        "id": "2EptO3tkEK2P"
      },
      "execution_count": 45,
      "outputs": []
    },
    {
      "cell_type": "code",
      "source": [
        "brute_results, brute_scores = [], []\n",
        "for i in tqdm(range(len(queries))):\n",
        "    results, scores = getTopK(query_embeddings[i], K=100)\n",
        "    brute_results.append(results)\n",
        "    brute_scores.append(scores)"
      ],
      "metadata": {
        "colab": {
          "base_uri": "https://localhost:8080/"
        },
        "id": "17qsMueDESe4",
        "outputId": "1d0343cb-7646-4639-8545-0c7ae0b2c360"
      },
      "execution_count": 67,
      "outputs": [
        {
          "output_type": "stream",
          "name": "stderr",
          "text": [
            "100%|██████████| 12/12 [00:20<00:00,  1.72s/it]\n"
          ]
        }
      ]
    },
    {
      "cell_type": "code",
      "source": [
        "faiss_scores, faiss_results = index.search(query_embeddings.detach().numpy(),  100)"
      ],
      "metadata": {
        "id": "H1bVDbSBEer9"
      },
      "execution_count": 73,
      "outputs": []
    },
    {
      "cell_type": "code",
      "source": [
        "for id in range(len(queries)):\n",
        "    for i in range(100):\n",
        "        if faiss_results[id][i] != brute_results[id][i].item():\n",
        "            print(f'\\nQuery {queries[id]} =====')\n",
        "            print(f'Similar product mismatch: Brute: {brute_results[id][i].item()}, Faiss: {faiss_results[id][i]}, scores (brute,faiss): ({brute_scores[id][i].item()}, {faiss_scores[id][i].item()})')"
      ],
      "metadata": {
        "colab": {
          "base_uri": "https://localhost:8080/"
        },
        "id": "3nyIhQVQE-Pg",
        "outputId": "94201187-2b97-44d7-b17a-890828f35aad"
      },
      "execution_count": 89,
      "outputs": [
        {
          "output_type": "stream",
          "name": "stdout",
          "text": [
            "\n",
            "Query christmas dinner dress =====\n",
            "Similar product mismatch: Brute: 25795, Faiss: 57299, scores (brute,faiss): (0.29480957984924316, 0.29480960965156555)\n",
            "\n",
            "Query christmas dinner dress =====\n",
            "Similar product mismatch: Brute: 57299, Faiss: 25795, scores (brute,faiss): (0.29480957984924316, 0.29480960965156555)\n"
          ]
        }
      ]
    },
    {
      "cell_type": "code",
      "source": [
        "for id in range(len(queries)):\n",
        "    for i in range(100):\n",
        "        if abs(faiss_scores[id][i] - brute_scores[id][i].item()) >  1e-6:\n",
        "            print(f'\\nQuery {queries[id]} =====')\n",
        "            print(f'Similar product mismatch: Brute: {brute_results[id][i].item()}, Faiss: {faiss_results[id][i]}, scores (brute,faiss): ({brute_scores[id][i].item()}, {faiss_scores[id][i].item()})')"
      ],
      "metadata": {
        "id": "DDnxXf1ILA-u"
      },
      "execution_count": 94,
      "outputs": []
    }
  ]
}